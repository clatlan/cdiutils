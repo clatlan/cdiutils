{
 "cells": [
  {
   "cell_type": "markdown",
   "metadata": {},
   "source": [
    "# 🏭 **BCDI Pipeline**  \n",
    "### A Notebook to Run the `BcdiPipeline` Instance  \n",
    "\n",
    "This notebook provides a structured workflow for running a **Bragg Coherent Diffraction Imaging (BCDI) pipeline**.  \n",
    "\n",
    "The `BcdiPipeline` class handles the entire process, including:  \n",
    "- **Pre-processing** → Data preparation and corrections.  \n",
    "- **Phase retrieval** → Running PyNX algorithms to reconstruct the phase.  \n",
    "- **Post-processing** → Refining, analysing (get the strain!), and visualising results.  \n",
    "\n",
    "You can provide **either**:  \n",
    "- A **YAML parameter file** for full automation.  \n",
    "- A **Python dictionary** for interactive control in this notebook.  \n"
   ]
  },
  {
   "cell_type": "code",
   "execution_count": null,
   "metadata": {
    "tags": []
   },
   "outputs": [],
   "source": [
    "# import required packages\n",
    "import os\n",
    "import cdiutils  # core library for BCDI processing"
   ]
  },
  {
   "cell_type": "markdown",
   "metadata": {},
   "source": [
    "## ⚙️ **General Parameters**\n",
    "Here, define the key parameters for **accessing and saving data** before running the pipeline.  \n",
    "- **These parameters must be set manually by the user** before execution.  \n",
    "- The output data will be saved in a structured directory format based on `sample_name` and `scan`. However, you can change the directory path if you like.\n"
   ]
  },
  {
   "cell_type": "code",
   "execution_count": null,
   "metadata": {},
   "outputs": [],
   "source": [
    "# define the key parameters (must be filled in by the user)\n",
    "beamline_setup: str = \"\"  # example: \"ID01\" (provide the beamline setup)\n",
    "experiment_file_path: str = \"\"  # example: \"/path/to/experiment/file.h5\"\n",
    "sample_name: str = \"\"  # example: \"Sample_Pt\" (specify the sample name)\n",
    "scan: int = 0 # example: 42 (specify the scan number)\n",
    "\n",
    "# choose where to save the results (default: current working directory)\n",
    "dump_dir = os.getcwd() + f\"/results/{sample_name}/S{scan}/\"\n",
    "\n",
    "# load the parameters and parse them into the BcdiPipeline class instance\n",
    "params = cdiutils.pipeline.get_params_from_variables(dir(), globals())\n",
    "bcdi_pipeline = cdiutils.BcdiPipeline(params=params)"
   ]
  },
  {
   "cell_type": "markdown",
   "metadata": {},
   "source": [
    "## 🔹**Pre-Processing**  \n",
    "\n",
    "If you need to update specific parameters, you can **pass them directly** into the `preprocess` method.  \n",
    "\n",
    "### **Main Parameters**\n",
    "- `preprocess_shape` → The shape of the cropped window used throughout the processes.  \n",
    "  - Can be a **tuple of 2 or 3 values**.  \n",
    "  - If only **2 values**, the entire rocking curve is used.  \n",
    "\n",
    "- `voxel_reference_methods` → A `list` (or a single value) defining how to centre the data.  \n",
    "  - Can include `\"com\"`, `\"max\"`, or a `tuple` of `int` (specific voxel position).  \n",
    "  - Example:\n",
    "    ```python\n",
    "    voxel_reference_methods = [(70, 200, 200), \"com\", \"com\"]\n",
    "    ```\n",
    "    - This centres a box of size `preprocess_shape` around `(70, 200, 200)`, then iteratively refines it using `\"com\"` (only computed within this box).\n",
    "    - Useful when `\"com\"` fails due to artifacts or `\"max\"` fails due to hot pixels.  \n",
    "    - Default: `[\"max\", \"com\", \"com\"]`.  \n",
    "\n",
    "- `rocking_angle_binning` → If you want to bin in the **rocking curve direction**, provide a binning factor (ex.: `2`).  \n",
    "\n",
    "- `light_loading` → If `True`, loads only the **ROI of the data** based on `voxel_reference_methods` and `preprocess_output_shape`.  \n",
    "\n",
    "- `hot_pixel_filter` → Removes isolated hot pixels. \n",
    "  - Default: `False`.  \n",
    "\n",
    "- `background_level` → Sets the background intensity to be removed.  \n",
    "  - Example: `3`.  \n",
    "  - Default: `None`.  \n",
    "\n",
    "- `hkl` → Defines the **Bragg reflection** measured to extend *d*-spacing values to the lattice parameter.  \n",
    "  - Default: `[1, 1, 1]`.  \n"
   ]
  },
  {
   "cell_type": "code",
   "execution_count": null,
   "metadata": {},
   "outputs": [],
   "source": [
    "bcdi_pipeline.preprocess(\n",
    "    preprocess_shape=(150, 150),  # define cropped window size\n",
    "    voxel_reference_methods=[\"max\", \"com\", \"com\"],  # centring method sequence\n",
    "    hot_pixel_filter=False,  # remove isolated hot pixels\n",
    "    background_level=None,  # background intensity level to remove\n",
    ")"
   ]
  },
  {
   "cell_type": "markdown",
   "metadata": {},
   "source": [
    "## 🔹 **[PyNX](https://pynx.esrf.fr/en/latest/index.html) Phase Retrieval**\n",
    "See the [pynx.cdi](https://pynx.esrf.fr/en/latest/scripts/pynx-cdi-id01.html) documentation for details on the phasing algorithms used here.  \n",
    "\n",
    "**Algorithm recipe**\n",
    "\n",
    "You can either:  \n",
    "- provide the exact chain of algorithms.  \n",
    "- or specify the number of iterations for **RAAR**, **HIO**, and **ER**.  \n",
    "\n",
    "```python\n",
    "algorithm = None  # ex: \"(Sup * (ER**20)) ** 10, (Sup*(HIO**20)) ** 15, (Sup*(RAAR**20)) ** 25\"\n",
    "nb_raar = 500\n",
    "nb_hio =  300\n",
    "nb_er =  200\n",
    "```\n",
    "**Support-related parameters**\n",
    "```python\n",
    "support = \"auto\"  # ex: bcdi_pipeline.pynx_phasing_dir + \"support.cxi\" (path to an existing support)\n",
    "```\n",
    ">_Note: If strain seems to large, don't use \"auto\" (autocorrelation) but use \"circle\" or \"square\", in combination with \"support_size\"_  \n",
    "```python\n",
    "support_threshold = \"0.15, 0.40\"  # must be a string\n",
    "support_update_period = 20\n",
    "support_only_shrink = False\n",
    "support_post_expand = None  # ex: \"-1,1\" or \"-1,2,-1\"\n",
    "support_update_border_n = None\n",
    "support_smooth_width_begin = 2\n",
    "support_smooth_width_end = 0.5\n",
    "```\n",
    "**Other parameters**\n",
    "```python\n",
    "positivity = False\n",
    "beta = 0.9  # β parameter in HIO and RAAR\n",
    "detwin = True\n",
    "rebin = \"1, 1, 1\"  # must be a string\n",
    "```\n",
    "**Number of Runs & Reconstructions to Keep**\n",
    "```python\n",
    "nb_run = 20  # total number of runs\n",
    "nb_run_keep = 10  # number of reconstructions to keep\n",
    "```\n",
    "\n",
    "**Override defaults in `phase_retrieval`**\n",
    "\n",
    "You can override any default parameter directly in the phase_retrieval method:\n",
    "```python\n",
    "bcdi_pipeline.phase_retrieval(nb_run=50, nb_run_keep=25)\n",
    "```\n",
    "If a parameter is not provided, the default value is used."
   ]
  },
  {
   "cell_type": "code",
   "execution_count": null,
   "metadata": {},
   "outputs": [],
   "source": [
    "bcdi_pipeline.phase_retrieval(\n",
    "    clear_former_results=True,\n",
    "    nb_run=20,\n",
    "    nb_run_keep=10,\n",
    "    # support=bcdi_pipeline.pynx_phasing_dir + \"support.cxi\"\n",
    ")"
   ]
  },
  {
   "cell_type": "markdown",
   "metadata": {},
   "source": [
    "### 🔹 **Analyse the phasing results**\n",
    "\n",
    "This step evaluates the quality of the phase retrieval results by sorting reconstructions based on a `sorting_criterion`.  \n",
    "\n",
    "##### **Available Sorting Criteria**\n",
    "- `\"mean_to_max\"` → Difference between the mean of the **Gaussian fit of the amplitude histogram** and its maximum value. A **smaller difference** indicates a more homogeneous reconstruction.  \n",
    "- `\"sharpness\"` → Sum of the amplitude within the support raised to the power of 4. **Lower values** indicate greater homogeneity.  \n",
    "- `\"std\"` → **Standard deviation** of the amplitude.  \n",
    "- `\"llk\"` → **Log-likelihood** of the reconstruction.  \n",
    "- `\"llkf\"` → **Free log-likelihood** of the reconstruction.  \n"
   ]
  },
  {
   "cell_type": "code",
   "execution_count": null,
   "metadata": {},
   "outputs": [],
   "source": [
    "bcdi_pipeline.analyse_phasing_results(\n",
    "    sorting_criterion=\"mean_to_max\",  # selects the sorting method\n",
    "    \n",
    "    # Optional parameters\n",
    "    # plot_phasing_results=False,  # uncomment to disable plotting\n",
    "    # plot_phase=True,  # uncomment to enable phase plotting\n",
    ")"
   ]
  },
  {
   "cell_type": "markdown",
   "metadata": {},
   "source": [
    "### 🔹 Optionally, generate a support for further phasing attempts  \n",
    "\n",
    "##### **Parameters**\n",
    "- `run` → set to either:  \n",
    "  - `\"best\"` to use the best reconstruction.  \n",
    "  - an **integer** corresponding to the specific run you want.  \n",
    "- `output_path` → the location to save the generated support. By default, it will be saved in the `pynx_phasing` folder.  \n",
    "- `fill` →  whether to fill the support if it contains holes.  \n",
    "  - Default: `False`.\n",
    "- `verbose` → whether to print logs and display a plot of the support.  \n",
    "\n",
    "<!-- ```python\n",
    "bcdi_pipeline.generate_support_from(run=\"best\", output_path=\"path/to/save\", verbose=True)\n",
    "``` -->"
   ]
  },
  {
   "cell_type": "code",
   "execution_count": null,
   "metadata": {},
   "outputs": [],
   "source": [
    "# bcdi_pipeline.generate_support_from(\"best\", fill=False)  # uncomment to generate a support"
   ]
  },
  {
   "cell_type": "markdown",
   "metadata": {},
   "source": [
    "### 🔹Selection of the best reconstructions & mode decomposition  \n",
    "\n",
    "You can select the best reconstructions based on a **sorting criterion** and keep a specified number of top candidates.  \n",
    "\n",
    "##### **Parameters**\n",
    "- `nb_of_best_sorted_runs` → the number of best reconstructions to keep, selected based on the `sorting_criterion` used in the `analyse_phasing_results` method above.  \n",
    "- `best_runs` → instead of selecting based on sorting, you can manually specify a list of reconstruction numbers.\n",
    "\n",
    "By default, the **best reconstructions** are automatically selected.  \n",
    "\n",
    "Once the best candidates are chosen, `mode_decomposition` analyses them to extract dominant features.  \n",
    "\n"
   ]
  },
  {
   "cell_type": "code",
   "execution_count": null,
   "metadata": {},
   "outputs": [],
   "source": [
    "# define how many of the best candidates to keep\n",
    "number_of_best_candidates: int = 5  \n",
    "\n",
    "# select the best reconstructions based on the sorting criterion\n",
    "bcdi_pipeline.select_best_candidates(\n",
    "    nb_of_best_sorted_runs=number_of_best_candidates\n",
    "    # best_runs=[10]  # uncomment to manually select a specific run\n",
    ")\n",
    "\n",
    "# perform mode decomposition on the selected reconstructions\n",
    "bcdi_pipeline.mode_decomposition()\n"
   ]
  },
  {
   "cell_type": "markdown",
   "metadata": {},
   "source": [
    "## 🔹**Post-processing**\n",
    "\n",
    "This stage includes several key operations:  \n",
    "- **orthogonalisation** of the reconstructed data.  \n",
    "- **phase manipulation**:  \n",
    "  - phase unwrapping  \n",
    "  - phase ramp removal  \n",
    "- **computation of physical properties**:  \n",
    "  - displacement field  \n",
    "  - strain  \n",
    "  - d-spacing  \n",
    "- **visualisation**: Generate multiple plots for analysis.  \n"
   ]
  },
  {
   "cell_type": "code",
   "execution_count": null,
   "metadata": {},
   "outputs": [],
   "source": [
    "bcdi_pipeline.postprocess(\n",
    "    isosurface=0.3,  # threshold for isosurface\n",
    "    voxel_size=None,  # use default voxel size if not provided\n",
    "    flip=False        # whether to flip the reconstruction if you got the twin image (enantiomorph)\n",
    ")"
   ]
  },
  {
   "cell_type": "markdown",
   "metadata": {},
   "source": [
    "## 🔹 Facet analysis: detection & indexing *(coming soon...)*  "
   ]
  },
  {
   "cell_type": "markdown",
   "metadata": {},
   "source": [
    "## 💡 Feedback & Issue Reporting  \n",
    "\n",
    "If you have **comments, suggestions, or encounter any issues**, please reach out:  \n",
    "\n",
    "📧 **Email:** [clement.atlan@esrf.fr](mailto:clement.atlan@esrf.fr?subject=cdiutils)  \n",
    "🐙 **GitHub Issues:** [Report an issue](https://github.com/clatlan/cdiutils/issues)  \n"
   ]
  },
  {
   "cell_type": "markdown",
   "metadata": {},
   "source": [
    "## Credits\n",
    "This notebook was created by Clément Atlan, ESRF, 2025. It is part of the `cdiutils` package, which provides tools for BCDI data analysis and visualisation.\n",
    "If you have used this notebook or the `cdiutils` package in your research, please consider citing the package https://github.com/clatlan/cdiutils/\n",
    "You'll find the citation information in the `cdiutils` package documentation.\n",
    "\n",
    "```bibtex\n",
    "@software{Atlan_Cdiutils_A_python,\n",
    "author = {Atlan, Clement},\n",
    "doi = {10.5281/zenodo.7656853},\n",
    "license = {MIT},\n",
    "title = {{Cdiutils: A python package for Bragg Coherent Diffraction Imaging processing, analysis and visualisation workflows}},\n",
    "url = {https://github.com/clatlan/cdiutils},\n",
    "version = {0.2.0}\n",
    "}\n",
    "```\n",
    "\n"
   ]
  }
 ],
 "metadata": {
  "kernelspec": {
   "display_name": "Python 3",
   "language": "python",
   "name": "python3"
  },
  "language_info": {
   "codemirror_mode": {
    "name": "ipython",
    "version": 3
   },
   "file_extension": ".py",
   "mimetype": "text/x-python",
   "name": "python",
   "nbconvert_exporter": "python",
   "pygments_lexer": "ipython3",
   "version": "3.10.14"
  }
 },
 "nbformat": 4,
 "nbformat_minor": 4
}
