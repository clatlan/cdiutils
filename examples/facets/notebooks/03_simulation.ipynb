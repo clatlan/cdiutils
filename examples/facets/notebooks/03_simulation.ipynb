{
 "cells": [
  {
   "cell_type": "markdown",
   "id": "676ba447-f48e-464b-b163-f981a78ddd72",
   "metadata": {},
   "source": [
    "# Simulation"
   ]
  },
  {
   "cell_type": "code",
   "execution_count": null,
   "id": "870b0bca-d133-4c93-80c1-45c165ff6abd",
   "metadata": {},
   "outputs": [],
   "source": [
    "%load_ext autoreload\n",
    "%autoreload 2"
   ]
  },
  {
   "cell_type": "code",
   "execution_count": null,
   "id": "9f14735b-cbd1-4709-897f-cf697267156b",
   "metadata": {},
   "outputs": [],
   "source": [
    "import facets.facets\n",
    "import facets.simulations"
   ]
  },
  {
   "cell_type": "code",
   "execution_count": null,
   "id": "a0cd9c3d-700a-4734-b80f-7a52e4802803",
   "metadata": {},
   "outputs": [],
   "source": [
    "from ewoks import execute_graph\n",
    "\n",
    "nodes = [\n",
    "    {\n",
    "        \"id\": \"get_orientation\",\n",
    "        \"task_type\": \"class\",\n",
    "        \"task_identifier\": \"facets.facets.GetOrientation\",\n",
    "    },\n",
    "    {\n",
    "        \"id\": \"nanoresculpted\",\n",
    "        \"task_type\": \"class\",\n",
    "        \"task_identifier\": \"facets.simulations.RunNanoReSculpted\",\n",
    "    },\n",
    "    {\n",
    "        \"id\": \"lammps\",\n",
    "        \"task_type\": \"class\",\n",
    "        \"task_identifier\": \"facets.simulations.RunLammps\",\n",
    "    },\n",
    "]\n",
    "\n",
    "links = [\n",
    "    {\n",
    "        \"source\": \"get_orientation\",\n",
    "        \"target\": \"nanoresculpted\",\n",
    "        \"data_mapping\": [{\"source_output\": \"nsparam_filepath\", \"target_input\": \"nsparam_filepath\"}],\n",
    "    },\n",
    "    {\n",
    "        \"source\": \"nanoresculpted\",\n",
    "        \"target\": \"lammps\",\n",
    "        \"data_mapping\": [{\"source_output\": \"pos_filepath\", \"target_input\": \"pos_filepath\"}],\n",
    "    },\n",
    "]\n",
    "\n",
    "# `links` non-mandatory if single computation\n",
    "workflow = {\"graph\": {\"id\": \"hello_world\"}, \"nodes\": nodes, \"links\": links}\n",
    "\n",
    "# Use editor, should be better\n",
    "inputs = [\n",
    "    {\"id\": \"get_orientation\", \"name\": \"scratch_dirpath\", \"value\": \"/data/id01/inhouse/polack/scratch/ewoks_simulation/\"},\n",
    "    {\"id\": \"get_orientation\", \"name\": \"vtp_facets_filepath\", \"value\": \"/data/id01/inhouse/polack/scratch/ewoks_postprocess/exp_1.vtp\"},\n",
    "    \n",
    "    {\"id\": \"nanoresculpted\", \"name\": \"scratch_dirpath\", \"value\": \"/data/id01/inhouse/polack/scratch/ewoks_simulation/\"},\n",
    "    {\"id\": \"nanoresculpted\", \"name\": \"obj_filepath\", \"value\": \"/data/id01/inhouse/polack/scratch/ewoks_postprocess/exp.obj\"},\n",
    "    {\"id\": \"nanoresculpted\", \"name\": \"num_procs\", \"value\": \"10\"},\n",
    "\n",
    "    {\"id\": \"lammps\", \"name\": \"scratch_dirpath\", \"value\": \"/data/id01/inhouse/polack/scratch/ewoks_simulation/\"},\n",
    "    {\"id\": \"lammps\", \"name\": \"num_procs\", \"value\": \"10\"},\n",
    "]"
   ]
  },
  {
   "cell_type": "code",
   "execution_count": null,
   "id": "0b15743e-b983-4eac-9d4d-478d450aeb0d",
   "metadata": {},
   "outputs": [],
   "source": [
    "result = execute_graph(workflow, inputs=inputs)"
   ]
  },
  {
   "cell_type": "code",
   "execution_count": null,
   "id": "a777eb23-bd2f-4f87-9dc9-25cc3b3143c5",
   "metadata": {},
   "outputs": [],
   "source": []
  }
 ],
 "metadata": {
  "kernelspec": {
   "display_name": "Ewoks Demo (Poetry)",
   "language": "python",
   "name": "ewoks-demo"
  },
  "language_info": {
   "codemirror_mode": {
    "name": "ipython",
    "version": 3
   },
   "file_extension": ".py",
   "mimetype": "text/x-python",
   "name": "python",
   "nbconvert_exporter": "python",
   "pygments_lexer": "ipython3",
   "version": "3.13.5"
  }
 },
 "nbformat": 4,
 "nbformat_minor": 5
}
