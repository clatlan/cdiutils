{
 "cells": [
  {
   "cell_type": "markdown",
   "id": "05c2a2b9-615f-4dbc-80f6-67ac62a494ee",
   "metadata": {},
   "source": [
    "# Full-circle Atomistic Comparison ETS"
   ]
  },
  {
   "cell_type": "markdown",
   "id": "9f886a32-a447-4cb7-a681-7600afd2017a",
   "metadata": {},
   "source": [
    "## Experimental data"
   ]
  },
  {
   "cell_type": "code",
   "execution_count": null,
   "id": "967b9f12-d3c4-47cf-a38d-353c561a9703",
   "metadata": {},
   "outputs": [],
   "source": [
    "%load_ext autoreload\n",
    "%autoreload 2"
   ]
  },
  {
   "cell_type": "code",
   "execution_count": null,
   "id": "deb714b3-7062-48f1-bb9f-3906ba55cca1",
   "metadata": {},
   "outputs": [],
   "source": [
    "!python /home/esrf/polack/ewoks/facets/get_euler.py /data/id01/inhouse/polack/scratch/ewoks_simulation/orientation.txt"
   ]
  },
  {
   "cell_type": "code",
   "execution_count": null,
   "id": "448042c7-fccf-4c64-be17-2cae6b72b759",
   "metadata": {},
   "outputs": [],
   "source": [
    "import facets.facets"
   ]
  },
  {
   "cell_type": "code",
   "execution_count": null,
   "id": "759cdd3d-46fb-4376-a1cf-638ab845860b",
   "metadata": {},
   "outputs": [],
   "source": [
    "from ewoks import execute_graph"
   ]
  },
  {
   "cell_type": "code",
   "execution_count": null,
   "id": "de4765e5-5219-4503-8a87-62f5d43305e5",
   "metadata": {},
   "outputs": [],
   "source": [
    "nodes = [\n",
    "    {\n",
    "        \"id\": \"fc_analysis\",\n",
    "        \"task_type\": \"class\",\n",
    "        \"task_identifier\": \"facets.facets.FullCircleAnalysis\",\n",
    "    },\n",
    "    {\n",
    "        \"id\": \"fc_analysis_sim\",\n",
    "        \"task_type\": \"class\",\n",
    "        \"task_identifier\": \"facets.facets.FullCircleAnalysis\",\n",
    "    }\n",
    "]\n",
    "\n",
    "workflow = {\"graph\": {\"id\": \"hello_world\"}, \"nodes\": nodes}\n",
    "\n",
    "inputs = [\n",
    "    {\"id\": \"fc_analysis\", \"name\": \"scratch_dirpath\", \"value\": \"/data/id01/inhouse/polack/scratch/ewoks_fca/\"},\n",
    "    {\"id\": \"fc_analysis\", \"name\": \"vti_filepath\", \"value\": \"/data/id01/inhouse/polack/scratch/ewoks_results/S37_structural_properties.vti\"},\n",
    "\n",
    "    {\"id\": \"fc_analysis_sim\", \"name\": \"scratch_dirpath\", \"value\": \"/data/id01/inhouse/polack/scratch/ewoks_fca/\"},\n",
    "    {\"id\": \"fc_analysis_sim\", \"name\": \"xyz_filepath\", \"value\": \"/data/id01/inhouse/polack/scratch/ewoks_simulation/exp_minimized.xyz\"},\n",
    "]"
   ]
  },
  {
   "cell_type": "markdown",
   "id": "553ce07f-23e3-4549-aee0-99ebdc079398",
   "metadata": {},
   "source": [
    "Vo"
   ]
  },
  {
   "cell_type": "code",
   "execution_count": null,
   "id": "fb2bc1e5-f892-414f-9110-315d32c8ba55",
   "metadata": {},
   "outputs": [],
   "source": [
    "%matplotlib inline\n",
    "result = execute_graph(workflow, inputs=inputs)"
   ]
  },
  {
   "cell_type": "code",
   "execution_count": null,
   "id": "245d7137-2475-48ab-8ff0-b99f5af6841f",
   "metadata": {},
   "outputs": [],
   "source": []
  }
 ],
 "metadata": {
  "kernelspec": {
   "display_name": "Ewoks Demo (Poetry)",
   "language": "python",
   "name": "ewoks-demo"
  },
  "language_info": {
   "codemirror_mode": {
    "name": "ipython",
    "version": 3
   },
   "file_extension": ".py",
   "mimetype": "text/x-python",
   "name": "python",
   "nbconvert_exporter": "python",
   "pygments_lexer": "ipython3",
   "version": "3.13.5"
  }
 },
 "nbformat": 4,
 "nbformat_minor": 5
}
