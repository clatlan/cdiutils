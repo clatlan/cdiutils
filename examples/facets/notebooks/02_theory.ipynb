{
 "cells": [
  {
   "cell_type": "markdown",
   "id": "71b83618-0a1d-4002-afca-0ac406d19045",
   "metadata": {},
   "source": [
    "# Theory\n",
    "\n",
    "TODO: should not have redo (do?) the Gaussian splatting to orient the VTP."
   ]
  },
  {
   "cell_type": "code",
   "execution_count": null,
   "id": "eb8f10db-59c1-421b-afe2-23f0726faf47",
   "metadata": {},
   "outputs": [],
   "source": [
    "%load_ext autoreload\n",
    "%autoreload 2"
   ]
  },
  {
   "cell_type": "code",
   "execution_count": null,
   "id": "a2864c0f-ae0c-4fc4-a883-9f33f2bbffd9",
   "metadata": {},
   "outputs": [],
   "source": [
    "import facets.facets"
   ]
  },
  {
   "cell_type": "code",
   "execution_count": null,
   "id": "35dad058-5adf-4153-8062-69f26f729378",
   "metadata": {},
   "outputs": [],
   "source": [
    "from ewoks import execute_graph\n",
    "\n",
    "nodes = [\n",
    "    {\n",
    "        \"id\": \"get_facets\",\n",
    "        \"task_type\": \"class\",\n",
    "        \"task_identifier\": \"facets.facets.GetFacets\",\n",
    "    },\n",
    "    {\n",
    "        \"id\": \"get_orientation\",\n",
    "        \"task_type\": \"class\",\n",
    "        \"task_identifier\": \"facets.facets.GetOrientation\",\n",
    "    },\n",
    "    {\n",
    "        \"id\": \"get_oriented_facets\",\n",
    "        \"task_type\": \"class\",\n",
    "        \"task_identifier\": \"facets.facets.GetOrientedFacets\",\n",
    "    },\n",
    "]\n",
    "\n",
    "links = [\n",
    "    {\n",
    "        \"source\": \"get_facets\",\n",
    "        \"target\": \"get_orientation\",\n",
    "        \"data_mapping\": [{\"source_output\": \"vtp_facets_filepaths\", \"target_input\": \"vtp_facets_filepath\"}],\n",
    "    },\n",
    "    {\n",
    "        \"source\": \"get_orientation\",\n",
    "        \"target\": \"get_oriented_facets\",\n",
    "        \"data_mapping\": [{\"source_output\": \"orientation_filepath\", \"target_input\": \"orientation_filepath\"}],\n",
    "    },\n",
    "]\n",
    "\n",
    "# `links` non-mandatory if single computation\n",
    "workflow = {\"graph\": {\"id\": \"hello_world\"}, \"nodes\": nodes, \"links\": links}\n",
    "\n",
    "# Use editor, should be better\n",
    "inputs = [\n",
    "    {\"id\": \"get_facets\", \"name\": \"scratch_dirpath\", \"value\": \"/data/id01/inhouse/polack/scratch/ewoks_postprocess/\"},\n",
    "    {\"id\": \"get_facets\", \"name\": \"vti_filepath\", \"value\": \"/data/id01/inhouse/polack/scratch/ewoks_results/S37_structural_properties.vti\"},\n",
    "\n",
    "    {\"id\": \"get_orientation\", \"name\": \"scratch_dirpath\", \"value\": \"/data/id01/inhouse/polack/scratch/ewoks_postprocess/\"},\n",
    "    \n",
    "    {\"id\": \"get_oriented_facets\", \"name\": \"scratch_dirpath\", \"value\": \"/data/id01/inhouse/polack/scratch/ewoks_postprocess/\"},\n",
    "    {\"id\": \"get_oriented_facets\", \"name\": \"vti_filepath\", \"value\": \"/data/id01/inhouse/polack/scratch/ewoks_results/S37_structural_properties.vti\"},\n",
    "]"
   ]
  },
  {
   "cell_type": "code",
   "execution_count": null,
   "id": "fbbe9517-f71d-4b2b-addc-bcaa519a7afc",
   "metadata": {},
   "outputs": [],
   "source": [
    "result = execute_graph(workflow, inputs=inputs)"
   ]
  },
  {
   "cell_type": "code",
   "execution_count": null,
   "id": "a7707c4a-6584-4b88-a6cb-22e27b9b710a",
   "metadata": {},
   "outputs": [],
   "source": [
    "result"
   ]
  },
  {
   "cell_type": "code",
   "execution_count": null,
   "id": "d17a36df-abff-479c-bdc3-b858ad8106eb",
   "metadata": {},
   "outputs": [],
   "source": []
  }
 ],
 "metadata": {
  "kernelspec": {
   "display_name": "Ewoks Demo (Poetry)",
   "language": "python",
   "name": "ewoks-demo"
  },
  "language_info": {
   "codemirror_mode": {
    "name": "ipython",
    "version": 3
   },
   "file_extension": ".py",
   "mimetype": "text/x-python",
   "name": "python",
   "nbconvert_exporter": "python",
   "pygments_lexer": "ipython3",
   "version": "3.13.5"
  }
 },
 "nbformat": 4,
 "nbformat_minor": 5
}
