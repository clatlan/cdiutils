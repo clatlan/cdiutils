{
 "cells": [
  {
   "cell_type": "markdown",
   "id": "71b83618-0a1d-4002-afca-0ac406d19045",
   "metadata": {},
   "source": [
    "# Theory\n",
    "\n",
    "TODO: should not have redo (do?) the Gaussian splatting to orient the VTP."
   ]
  },
  {
   "cell_type": "code",
   "execution_count": 1,
   "id": "eb8f10db-59c1-421b-afe2-23f0726faf47",
   "metadata": {},
   "outputs": [],
   "source": [
    "%load_ext autoreload\n",
    "%autoreload 2"
   ]
  },
  {
   "cell_type": "code",
   "execution_count": 2,
   "id": "a2864c0f-ae0c-4fc4-a883-9f33f2bbffd9",
   "metadata": {},
   "outputs": [],
   "source": [
    "import facets_drivers\n",
    "import os\n",
    "user = os.environ.get('USER')\n",
    "\n",
    "experimental_structure = f\"/data/id01/inhouse/{user}/scratch/ewoks_01_experiment/S37_structural_properties.vti\"\n",
    "theory_dump_directory = f\"/data/id01/inhouse/{user}/scratch/ewoks_02_theory/\""
   ]
  },
  {
   "cell_type": "code",
   "execution_count": 3,
   "id": "35dad058-5adf-4153-8062-69f26f729378",
   "metadata": {},
   "outputs": [],
   "source": [
    "from ewoks import execute_graph\n",
    "\n",
    "nodes = [\n",
    "    {\n",
    "        \"id\": \"get_facets\",\n",
    "        \"task_type\": \"class\",\n",
    "        \"task_identifier\": \"facets_drivers.theory.GetFacets\",\n",
    "    },\n",
    "    {\n",
    "        \"id\": \"get_orientation\",\n",
    "        \"task_type\": \"class\",\n",
    "        \"task_identifier\": \"facets_drivers.theory.GetOrientation\",\n",
    "    },\n",
    "    {\n",
    "        \"id\": \"get_oriented_facets\",\n",
    "        \"task_type\": \"class\",\n",
    "        \"task_identifier\": \"facets_drivers.theory.GetOrientedFacets\",\n",
    "    },\n",
    "]\n",
    "\n",
    "links = [\n",
    "    {\n",
    "        \"source\": \"get_facets\",\n",
    "        \"target\": \"get_orientation\",\n",
    "        \"data_mapping\": [{\"source_output\": \"vtp_facets_filepaths\", \"target_input\": \"vtp_facets_filepath\"}],\n",
    "    },\n",
    "    {\n",
    "        \"source\": \"get_orientation\",\n",
    "        \"target\": \"get_oriented_facets\",\n",
    "        \"data_mapping\": [{\"source_output\": \"orientation_filepath\", \"target_input\": \"orientation_filepath\"}],\n",
    "    },\n",
    "]\n",
    "\n",
    "# `links` non-mandatory if single computation\n",
    "workflow = {\"graph\": {\"id\": \"hello_world\"}, \"nodes\": nodes, \"links\": links}\n",
    "\n",
    "# Use editor, should be better\n",
    "inputs = [\n",
    "    {\"id\": \"get_facets\", \"name\": \"scratch_dirpath\", \"value\": theory_dump_directory},\n",
    "    {\"id\": \"get_facets\", \"name\": \"vti_filepath\", \"value\": experimental_structure},\n",
    "\n",
    "    {\"id\": \"get_orientation\", \"name\": \"scratch_dirpath\", \"value\": theory_dump_directory},\n",
    "    \n",
    "    {\"id\": \"get_oriented_facets\", \"name\": \"scratch_dirpath\", \"value\": theory_dump_directory},\n",
    "    {\"id\": \"get_oriented_facets\", \"name\": \"vti_filepath\", \"value\": experimental_structure},\n",
    "]"
   ]
  },
  {
   "cell_type": "code",
   "execution_count": null,
   "id": "fbbe9517-f71d-4b2b-addc-bcaa519a7afc",
   "metadata": {},
   "outputs": [
    {
     "name": "stdout",
     "output_type": "stream",
     "text": [
      "If this is slow (few seconds), you do not have a GPU.\n",
      "Reading input file: /data/id01/inhouse/polack/scratch/ewoks_01_experiment/S37_structural_properties.vti\n",
      "Processing VTI file with 7880599 points and 7762392 cells\n",
      "Warning: No active scalars. Using first array: 'amplitude'\n",
      "Auto-detected iso-value: 0.500000\n",
      "Extracted surface: 25082 points, 50160 triangles\n",
      "Starting facet analysis...\n",
      "Processing 50160 triangles with total area 361786.326102\n",
      "Using splat radius: 0.200000\n",
      "Creating Gaussian splat...\n"
     ]
    }
   ],
   "source": [
    "result = execute_graph(workflow, inputs=inputs)"
   ]
  },
  {
   "cell_type": "code",
   "execution_count": null,
   "id": "a7707c4a-6584-4b88-a6cb-22e27b9b710a",
   "metadata": {},
   "outputs": [],
   "source": [
    "result"
   ]
  }
 ],
 "metadata": {
  "kernelspec": {
   "display_name": "Facets",
   "language": "python",
   "name": "facets"
  },
  "language_info": {
   "codemirror_mode": {
    "name": "ipython",
    "version": 3
   },
   "file_extension": ".py",
   "mimetype": "text/x-python",
   "name": "python",
   "nbconvert_exporter": "python",
   "pygments_lexer": "ipython3",
   "version": "3.10.12"
  }
 },
 "nbformat": 4,
 "nbformat_minor": 5
}
