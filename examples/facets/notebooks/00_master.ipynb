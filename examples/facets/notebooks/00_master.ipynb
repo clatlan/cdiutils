{
 "cells": [
  {
   "cell_type": "markdown",
   "id": "2bc58d0e-d10f-4a12-a9aa-ec678028fb98",
   "metadata": {},
   "source": [
    "# Full-circle Atomistic Comparison of Experiment, Theory and Simulation\n",
    "\n",
    "Runs all notebooks.\n",
    "\n",
    "Parameters should be set only in the first notebook."
   ]
  },
  {
   "cell_type": "code",
   "execution_count": null,
   "id": "21b2b9a1-368b-448d-9967-5864d938ff30",
   "metadata": {},
   "outputs": [],
   "source": [
    "%run ./01_experiment.ipynb\n",
    "%run ./02_theory.ipynb\n",
    "%run ./03_simulation.ipynb\n",
    "%run ./04_facets.ipynb"
   ]
  }
 ],
 "metadata": {
  "kernelspec": {
   "display_name": "Facets",
   "language": "python",
   "name": "facets"
  },
  "language_info": {
   "codemirror_mode": {
    "name": "ipython",
    "version": 3
   },
   "file_extension": ".py",
   "mimetype": "text/x-python",
   "name": "python",
   "nbconvert_exporter": "python",
   "pygments_lexer": "ipython3",
   "version": "3.10.12"
  }
 },
 "nbformat": 4,
 "nbformat_minor": 5
}
